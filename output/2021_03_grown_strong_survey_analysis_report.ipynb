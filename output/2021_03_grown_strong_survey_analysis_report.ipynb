{
 "cells": [
  {
   "cell_type": "markdown",
   "id": "compliant-volume",
   "metadata": {},
   "source": [
    "# Grown Strong - March 2021 Survey Analysis\n",
    "2021-03-30\n",
    "\n",
    "## Introduction\n",
    " - Talk about the project/task\n",
    " - Discuss TwoKai's collaboration\n",
    " - Infrsstructure and tools used"
   ]
  },
  {
   "cell_type": "code",
   "execution_count": 572,
   "id": "going-costs",
   "metadata": {},
   "outputs": [],
   "source": [
    "# Load packages\n",
    "\n",
    "## General packages\n",
    "import pandas as pd\n",
    "import numpy as np\n",
    "from scipy import stats\n",
    "import os\n",
    "import random\n",
    "\n",
    "## Data vis packages\n",
    "import matplotlib.pyplot as plt\n",
    "%matplotlib inline\n",
    "import seaborn as sns"
   ]
  },
  {
   "cell_type": "code",
   "execution_count": 573,
   "id": "consistent-minute",
   "metadata": {},
   "outputs": [],
   "source": [
    "# Read in data\n",
    "## Get directory and file paths\n",
    "input_dir = '../input/'\n",
    "df_path   = os.path.join(input_dir, '2021_03_22_grown_strong_survey_results.csv')\n",
    "\n",
    "## Read in survey data\n",
    "df = pd.read_csv(\n",
    "    df_path,\n",
    "    ## Rename columns\n",
    "    header = 0,\n",
    "    names = [\n",
    "        'response_id', 'name', 'email_address', 'age', 'gender', 'ethnicity', 'home_location', \n",
    "        'household_income', 'num_work_week_hrs', 'has_children', 'fitness_level', 'nutrition_level', \n",
    "        'olympic_lifting_experience', 'fitness_goals0', 'fitness_goals1', 'fitness_goals2', 'fitness_goals3', \n",
    "        'fitness_goals4', 'fitness_goals5', 'fitness_goals6', 'fitness_goals7', 'fitness_goals8', \n",
    "        'most_used_gs_program', 'num_gs_sessions_per_week', 'workout_location', 'uses_other_workouts',  \n",
    "        'uses_other_workouts_further_info', 'gs_provision_suggestion', 'has_joined_facebook_group',  \n",
    "        'gs_improvement_suggestion1', 'why_not_joined_facebook_group', 'gs_likely_recommendation',  \n",
    "        'gs_improvement_suggestion2', 'unnamed'\n",
    "    ]\n",
    ")\n",
    "\n",
    "## Remove last column as unneeded\n",
    "df = df.iloc[:, 0:-1]"
   ]
  },
  {
   "cell_type": "code",
   "execution_count": 574,
   "id": "hearing-lounge",
   "metadata": {
    "scrolled": true
   },
   "outputs": [
    {
     "name": "stdout",
     "output_type": "stream",
     "text": [
      "<class 'pandas.core.frame.DataFrame'>\n",
      "RangeIndex: 147 entries, 0 to 146\n",
      "Data columns (total 33 columns):\n",
      " #   Column                            Non-Null Count  Dtype  \n",
      "---  ------                            --------------  -----  \n",
      " 0   response_id                       147 non-null    int64  \n",
      " 1   name                              147 non-null    object \n",
      " 2   email_address                     147 non-null    object \n",
      " 3   age                               147 non-null    object \n",
      " 4   gender                            146 non-null    object \n",
      " 5   ethnicity                         147 non-null    object \n",
      " 6   home_location                     147 non-null    object \n",
      " 7   household_income                  147 non-null    object \n",
      " 8   num_work_week_hrs                 147 non-null    object \n",
      " 9   has_children                      147 non-null    object \n",
      " 10  fitness_level                     147 non-null    int64  \n",
      " 11  nutrition_level                   147 non-null    int64  \n",
      " 12  olympic_lifting_experience        147 non-null    object \n",
      " 13  fitness_goals0                    113 non-null    object \n",
      " 14  fitness_goals1                    117 non-null    object \n",
      " 15  fitness_goals2                    61 non-null     object \n",
      " 16  fitness_goals3                    3 non-null      object \n",
      " 17  fitness_goals4                    10 non-null     object \n",
      " 18  fitness_goals5                    70 non-null     object \n",
      " 19  fitness_goals6                    119 non-null    object \n",
      " 20  fitness_goals7                    98 non-null     object \n",
      " 21  fitness_goals8                    8 non-null      object \n",
      " 22  most_used_gs_program              145 non-null    object \n",
      " 23  num_gs_sessions_per_week          145 non-null    object \n",
      " 24  workout_location                  147 non-null    object \n",
      " 25  uses_other_workouts               146 non-null    object \n",
      " 26  uses_other_workouts_further_info  81 non-null     object \n",
      " 27  gs_provision_suggestion           96 non-null     object \n",
      " 28  has_joined_facebook_group         147 non-null    object \n",
      " 29  gs_improvement_suggestion1        52 non-null     object \n",
      " 30  why_not_joined_facebook_group     7 non-null      object \n",
      " 31  gs_likely_recommendation          146 non-null    float64\n",
      " 32  gs_improvement_suggestion2        85 non-null     object \n",
      "dtypes: float64(1), int64(3), object(29)\n",
      "memory usage: 38.0+ KB\n"
     ]
    }
   ],
   "source": [
    "df.info()"
   ]
  },
  {
   "cell_type": "code",
   "execution_count": 575,
   "id": "gorgeous-panel",
   "metadata": {},
   "outputs": [],
   "source": [
    "# Clean name\n",
    "\n",
    "## Convert to lowercase\n",
    "df['name'] = df['name'].str.lower()\n",
    "## Remove punctuation\n",
    "df['name'] = df['name'].str.replace(r'[^\\w\\s]+', '', regex = True)"
   ]
  },
  {
   "cell_type": "code",
   "execution_count": 576,
   "id": "extended-greene",
   "metadata": {},
   "outputs": [],
   "source": [
    "# Clean email_address\n",
    "\n",
    "## Convert to lowercase\n",
    "df['email_address'] = df['email_address'].str.lower().str.strip()\n",
    "\n",
    "def extract_email_domain(string):\n",
    "    domain = string.split('@')[1].split('.')[0]\n",
    "    return(domain)\n",
    "\n",
    "# Extract email domain into another feature\n",
    "df['email_domain'] = df['email_address'].apply(extract_email_domain).str.strip()"
   ]
  },
  {
   "cell_type": "code",
   "execution_count": 577,
   "id": "chubby-disposal",
   "metadata": {},
   "outputs": [],
   "source": [
    "# Clean age\n",
    "\n",
    "## Remove unneeded substring and whitespace\n",
    "df['age'] = df['age'].str.replace('years old', '').str.strip()"
   ]
  },
  {
   "cell_type": "code",
   "execution_count": 578,
   "id": "fifth-eligibility",
   "metadata": {},
   "outputs": [],
   "source": [
    "# Clean gender\n",
    "\n",
    "## Convert to lowercase\n",
    "df['gender'] = df['gender'].str.lower()\n",
    "## Map female and male to f and m respectively\n",
    "df['gender'] = df['gender'].str.replace('female', 'f', regex = False)\n",
    "df['gender'] = df['gender'].str.replace('male', 'm', regex = False)\n",
    "## Map 'prefer not to answer' to NA\n",
    "df.loc[df.gender == 'prefer not to answer', 'gender'] = np.nan"
   ]
  },
  {
   "cell_type": "code",
   "execution_count": 579,
   "id": "respiratory-jimmy",
   "metadata": {},
   "outputs": [],
   "source": [
    "# Clean ethnicity\n",
    "\n",
    "## Convert to lowercase\n",
    "df['ethnicity'] = df['ethnicity'].str.lower()\n",
    "## Map '/' to 'or'\n",
    "df['ethnicity'] = df['ethnicity'].str.replace('/', ' or ', regex = False)\n",
    "## Map 'prefer not to answer' to NA\n",
    "df.loc[df.ethnicity == 'prefer not to answer', 'ethnicity'] = np.nan"
   ]
  },
  {
   "cell_type": "code",
   "execution_count": 580,
   "id": "dominican-france",
   "metadata": {},
   "outputs": [],
   "source": [
    "# Clean home_location\n",
    "\n",
    "## Convert to lowercase\n",
    "df['home_location'] = df['home_location'].str.lower()\n",
    "## Map all 'other' values to only 'other'\n",
    "df.loc[df.home_location.str.contains('other'), 'home_location'] = 'other'"
   ]
  },
  {
   "cell_type": "code",
   "execution_count": 581,
   "id": "ruled-prince",
   "metadata": {},
   "outputs": [],
   "source": [
    "# Clean household_income\n",
    "\n",
    "## Convert to lowercase\n",
    "df['household_income'] = df['household_income'].str.lower()\n",
    "## Remove $ symbols\n",
    "df['household_income'] = df['household_income'].str.replace('$', '', regex = False)\n",
    "## Map 'prefer not to answer' to NA\n",
    "df.loc[df.household_income == 'prefer not to answer', 'household_income'] = np.nan"
   ]
  },
  {
   "cell_type": "code",
   "execution_count": 582,
   "id": "continuous-carbon",
   "metadata": {},
   "outputs": [],
   "source": [
    "# Clean num_work_week_hrs\n",
    "\n",
    "## Convert to lowercase\n",
    "df['num_work_week_hrs'] = df['num_work_week_hrs'].str.lower()\n",
    "## Clean 'to' and '-' symbols so consistent\n",
    "df['num_work_week_hrs'] = df['num_work_week_hrs'].str.replace(' to ', '-', regex = False)\n",
    "## Map 'currently not working' to 0\n",
    "df.loc[df.num_work_week_hrs == 'currently not working', 'num_work_week_hrs'] = 0\n",
    "## Clean '0 to 25 hours a week' values\n",
    "df.loc[df.num_work_week_hrs == '0 to 25 hours a week', 'num_work_week_hrs'] = '1 to 25 hours a week'\n",
    "## Remove 'hours a week'\n",
    "df['num_work_week_hrs'] = df['num_work_week_hrs'].str.replace('hours a week', '').str.strip()"
   ]
  },
  {
   "cell_type": "code",
   "execution_count": 583,
   "id": "employed-stereo",
   "metadata": {},
   "outputs": [],
   "source": [
    "# Clean has_children\n",
    "\n",
    "## Convert strings to booleans\n",
    "df.loc[df.has_children == 'Yes', 'has_children'] = True\n",
    "df.loc[df.has_children == 'No', 'has_children'] = False"
   ]
  },
  {
   "cell_type": "code",
   "execution_count": 584,
   "id": "utility-plaintiff",
   "metadata": {
    "scrolled": true
   },
   "outputs": [],
   "source": [
    "# Clean fitness goals cols\n",
    "\n",
    "## Get fitness_goals colnames\n",
    "cols_fitness_goals = df.columns[df.columns.str.startswith('fitness_goals')]\n",
    "\n",
    "## Concatenate fitness goals cols using concat_cols\n",
    "for idx, col_current in enumerate(cols_fitness_goals):\n",
    "    if idx == 0:\n",
    "        col_previous = cols_fitness_goals[0]\n",
    "    \n",
    "    ## Remove 'other (please specify):' string\n",
    "    df[col_current] = df[col_current].str.lower()\n",
    "    df[col_current] = df[col_current].str.replace('other (please specify):', '', regex = False)\n",
    "    \n",
    "    # If column is free text field, replace commas with periods\n",
    "    if idx == len(cols_fitness_goals):\n",
    "            df[col_current] = df[col_current].str.replace(',', '.', regex = False)\n",
    "    \n",
    "    ## Convert to string and concatenate\n",
    "    df['fitness_goals'] = df[col_previous].astype('str') + ', ' + df[col_current].astype('str')\n",
    "    \n",
    "    ## Remove any nans included in concatenation\n",
    "    df['fitness_goals'] = df['fitness_goals'].str.replace('nan, ', '', regex = False)\n",
    "    df['fitness_goals'] = df['fitness_goals'].str.replace(', nan', '', regex = False)\n",
    "    df['fitness_goals'] = df['fitness_goals'].str.replace('nan', '', regex = False)\n",
    "    df['fitness_goals'] = df['fitness_goals'].str.replace(r'^, ', '', regex = True)\n",
    "    \n",
    "    col_previous = 'fitness_goals'"
   ]
  },
  {
   "cell_type": "code",
   "execution_count": 585,
   "id": "exceptional-equipment",
   "metadata": {},
   "outputs": [],
   "source": [
    "# Clean num_gs_sessions_per_week\n",
    "\n",
    "## Remove 'times a week' string\n",
    "df['num_gs_sessions_per_week'] = df['num_gs_sessions_per_week'].str.replace(r'time.? a week', '', regex = True)\n",
    "## Replace ' to ' with hyphen for consistency\n",
    "df['num_gs_sessions_per_week'] = df['num_gs_sessions_per_week'].str.replace(' to ', '-', regex = False)\n",
    "df['num_gs_sessions_per_week'] = df['num_gs_sessions_per_week'].str.strip()"
   ]
  },
  {
   "cell_type": "code",
   "execution_count": 586,
   "id": "rapid-negative",
   "metadata": {},
   "outputs": [],
   "source": [
    "# Clean workout_location\n",
    "\n",
    "## Map '/' to 'or'\n",
    "df['workout_location'] = df['workout_location'].str.replace('/', ' or ', regex = False)\n",
    "## Remove 'other (please specify):' string\n",
    "df['workout_location'] = df['workout_location'].str.lower()\n",
    "df['workout_location'] = df['workout_location'].str.replace('other (please specify):', '', regex = False)\n",
    "\n",
    "## Manual cleaning of values\n",
    "df['workout_location'] = df['workout_location'].str.replace('home gym- inside', 'inside house', regex = False)\n",
    "df['workout_location'] = df['workout_location'].str.replace('boat', 'inside house', regex = False)"
   ]
  },
  {
   "cell_type": "code",
   "execution_count": 587,
   "id": "apparent-replica",
   "metadata": {},
   "outputs": [],
   "source": [
    "# Clean uses_other_workouts\n",
    "\n",
    "## Convert strings to booleans\n",
    "df.loc[df.uses_other_workouts == 'Yes', 'uses_other_workouts'] = True\n",
    "df.loc[df.uses_other_workouts == 'No', 'uses_other_workouts'] = False"
   ]
  },
  {
   "cell_type": "code",
   "execution_count": 588,
   "id": "numeric-treatment",
   "metadata": {},
   "outputs": [],
   "source": [
    "# Clean uses_other_workouts_further_info\n",
    "\n",
    "def clean_free_text(data, col):\n",
    "    ## Convert to lowercase\n",
    "    data[col] = data[col].str.lower()\n",
    "    ## Clean punctuation and abbreviations\n",
    "    data[col] = data[col].str.replace(\"i’ll\", 'i will', regex = False)\n",
    "    data[col] = data[col].str.replace(\"i'll\", 'i will', regex = False)\n",
    "    data[col] = data[col].str.replace(\"i’m\", 'i am', regex = False)\n",
    "    data[col] = data[col].str.replace(\"i'm\", 'i am', regex = False)\n",
    "    data[col] = data[col].str.replace(\"it’s\", 'it is', regex = False)\n",
    "    data[col] = data[col].str.replace(\"it's\", 'it is', regex = False)\n",
    "    data[col] = data[col].str.replace(\"hitt\", 'hiit', regex = False)\n",
    "    data[col] = data[col].str.replace(\"can’t\", 'can not', regex = False)\n",
    "    data[col] = data[col].str.replace(\"can't\", 'can not', regex = False)\n",
    "    data[col] = data[col].str.replace(\"don’t\", 'do not', regex = False)\n",
    "    data[col] = data[col].str.replace(\"don't\", 'do not', regex = False)\n",
    "    data[col] = data[col].str.replace(\"isn’t\", 'is not', regex = False)\n",
    "    data[col] = data[col].str.replace(\"isn't\", 'is not', regex = False)\n",
    "    data[col] = data[col].str.replace(r'[^\\w\\s]+', ' ', regex = True)\n",
    "    ## Strip whitespace\n",
    "    data[col] = data[col].str.replace('\\n', ' ', regex = False)\n",
    "    data[col] = data[col].str.replace('\\s+', ' ', regex = True)\n",
    "    data[col] = data[col].str.strip()\n",
    "    data.loc[data[col] == '', col] = np.nan\n",
    "    return(data[col])\n",
    "\n",
    "df['uses_other_workouts_further_info'] = clean_free_text(df, 'uses_other_workouts_further_info')"
   ]
  },
  {
   "cell_type": "code",
   "execution_count": 589,
   "id": "minimal-brush",
   "metadata": {},
   "outputs": [],
   "source": [
    "# Clean gs_provision_suggestion\n",
    "\n",
    "df['gs_provision_suggestion'] = clean_free_text(df, 'gs_provision_suggestion')"
   ]
  },
  {
   "cell_type": "code",
   "execution_count": 590,
   "id": "fixed-lambda",
   "metadata": {},
   "outputs": [],
   "source": [
    "# Clean has_joined_facebook_group\n",
    "\n",
    "## Convert strings to booleans\n",
    "df.loc[df.has_joined_facebook_group == 'Yes', 'has_joined_facebook_group'] = True\n",
    "df.loc[df.has_joined_facebook_group == 'No', 'has_joined_facebook_group'] = False\n",
    "df.loc[df.has_joined_facebook_group == 'I do not have Facebook', 'has_joined_facebook_group'] = np.nan"
   ]
  },
  {
   "cell_type": "code",
   "execution_count": 593,
   "id": "written-converter",
   "metadata": {},
   "outputs": [
    {
     "data": {
      "text/plain": [
       "array([nan, 'no i enjoy the girls and everyone s encouragement',\n",
       "       'i do not ever look at facebook',\n",
       "       'i love everything no improvements needed',\n",
       "       'nope i love it one of my favorite things about the group',\n",
       "       'nothing i can think of i enjoy hearing from other members and gs',\n",
       "       'i do not think so', 'everything has been great',\n",
       "       'more technique help', 'no it is great',\n",
       "       'i love it it is such a positive environment',\n",
       "       'no i love the support and commerodery of the group',\n",
       "       'it is great right now i cna t think of any improvement',\n",
       "       'i think it seems a great community very supportive positive and encouraging',\n",
       "       'the group is perfect you guys are great at responding and adding feedback',\n",
       "       'no i should probably reach out to the community more often via the facebook group',\n",
       "       'i really loved the snatch demo and snatch warm up it really helps that community feeling when you guys do iives and mini workshops like that',\n",
       "       'not really a ton of worn with my life history age kids or circumstances can kill the motivation if i am not mentally prepared for the comparison age groups may have been nice',\n",
       "       'would love a to see more nutrition oriented discussion or a separate group for it i love the workout banter but feel good nutrition is essential to the success of the program and there is a lot less talk about it',\n",
       "       'i love it how it is', 'more lessons from jen', 'no',\n",
       "       'i like it very much',\n",
       "       'nope i love the support and tips and inspo that i get from there if i do not think i want to work out i head on there and that gets me going',\n",
       "       'no i do not really use facebook very much',\n",
       "       'not really but i am mostly a reader atm as the majority of contributors are women and i do want to kill the vibe maybe however still like the group and get motivated by the i posts and comments',\n",
       "       'nope it is wonderful', 'no its great i love the interaction',\n",
       "       'not really i enjoy it as it is',\n",
       "       'nope the ladies are cool on there', 'no love it',\n",
       "       'no so far it has been great',\n",
       "       'a daily check in just a post that asks a question that s specific to that days programming i think it would help with a accountability and with questions members have i know this is a lot and i do not not if this is possible with the staff that you currently have',\n",
       "       'looks fine',\n",
       "       'continue how it is love seeing all the amazing posts and updates which keeps me accountable',\n",
       "       'i think it is great that the grown strong team is very active on social media honestly the only reason i haven t deleted my facebook is because of the facebook group it has created a community for like minded people in terms of fitness',\n",
       "       'not that i can think of but i am still pretty new to the group',\n",
       "       'specific places to post workout videos maybe another page bc it gets crowded when everyone posts their times',\n",
       "       'no i absolutely love this group of badass women lauren jenn rachel are so inspiring and encouraging',\n",
       "       'no it is good',\n",
       "       'i haven t been in the group very long so i do not have anything at the moment',\n",
       "       'receipes', 'i love it',\n",
       "       'in my case i do not use facebook too much so i hardly see the posts there would the idea of sth like a forum on the grownstrong page sound attractive if not i can confirm that instagram keeps me well up to dated too',\n",
       "       'the facebook group is great so much positive support it is fantastic i d love to see more videos on technique and cues for movements or just random training tips i like learning about all sorts of different things fitness and nutrition related the nutrition stuff you guys put out is awesome and i loved the video you guys recently shared on the snatch for oly i learned so much',\n",
       "       'i love it already',\n",
       "       'i do not have anything to recommend i am truthfully not a big follower of facebook i read the odd post and enjoy the positivity of the group but generally keep to myself',\n",
       "       'nothing everything is awesome in the fb group',\n",
       "       'no it is fantastic love the community',\n",
       "       'it is perfect the talks from rachel lauren and jenn are perfect the support amongst all members is absolutely the best there is no shaming no name calling no nothing just positive vibes and cheers and hands to lift one another up all the time',\n",
       "       'i haven t noticed anything that needs changing yet'], dtype=object)"
      ]
     },
     "execution_count": 593,
     "metadata": {},
     "output_type": "execute_result"
    }
   ],
   "source": [
    "# Clean gs_improvement_suggestion1\n",
    "\n",
    "df['gs_improvement_suggestion1'] = clean_free_text(df, 'gs_improvement_suggestion1')\n",
    "df['gs_improvement_suggestion1'].unique()"
   ]
  },
  {
   "cell_type": "code",
   "execution_count": null,
   "id": "preliminary-revelation",
   "metadata": {},
   "outputs": [],
   "source": []
  },
  {
   "cell_type": "code",
   "execution_count": null,
   "id": "running-lambda",
   "metadata": {},
   "outputs": [],
   "source": []
  },
  {
   "cell_type": "code",
   "execution_count": null,
   "id": "champion-stand",
   "metadata": {},
   "outputs": [],
   "source": []
  },
  {
   "cell_type": "code",
   "execution_count": null,
   "id": "covered-alexandria",
   "metadata": {},
   "outputs": [],
   "source": []
  },
  {
   "cell_type": "code",
   "execution_count": null,
   "id": "spiritual-investor",
   "metadata": {},
   "outputs": [],
   "source": []
  },
  {
   "cell_type": "code",
   "execution_count": null,
   "id": "confirmed-notification",
   "metadata": {},
   "outputs": [],
   "source": []
  },
  {
   "cell_type": "code",
   "execution_count": null,
   "id": "contemporary-phase",
   "metadata": {},
   "outputs": [],
   "source": []
  }
 ],
 "metadata": {
  "kernelspec": {
   "display_name": "Python 3",
   "language": "python",
   "name": "python3"
  },
  "language_info": {
   "codemirror_mode": {
    "name": "ipython",
    "version": 3
   },
   "file_extension": ".py",
   "mimetype": "text/x-python",
   "name": "python",
   "nbconvert_exporter": "python",
   "pygments_lexer": "ipython3",
   "version": "3.6.8"
  }
 },
 "nbformat": 4,
 "nbformat_minor": 5
}
